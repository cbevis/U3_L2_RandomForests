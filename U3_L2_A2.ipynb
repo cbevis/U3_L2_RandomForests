{
 "cells": [
  {
   "cell_type": "markdown",
   "metadata": {},
   "source": [
    "## Calculate entropy of other features\n",
    "\n",
    "H(tall) = p(male) * log2 * (1/p(male)) + p(female) * log2* 1/p(female)"
   ]
  },
  {
   "cell_type": "code",
   "execution_count": 4,
   "metadata": {},
   "outputs": [],
   "source": [
    "import pandas as pd\n",
    "from math import log2\n"
   ]
  },
  {
   "cell_type": "code",
   "execution_count": 11,
   "metadata": {},
   "outputs": [],
   "source": [
    "df = pd.DataFrame()\n",
    "df['gender'] = [1, 1, 1, 1, 1, 1, 1, 1, 1, 1, 1, 1, 0, 0, 0, 0, 0, 0, 0, 0]\n",
    "df['height'] = [1, 1, 1, 1, 2, 2, 2, 2, 2, 2, 3, 3, 1, 2, 2, 3, 3, 3, 3, 3]"
   ]
  },
  {
   "cell_type": "code",
   "execution_count": 21,
   "metadata": {},
   "outputs": [],
   "source": [
    "# Compute for tall variable\n",
    "p_tall_m = sum((df.height == 1) & (df.gender == 1)) / sum(df.height == 1)"
   ]
  },
  {
   "cell_type": "code",
   "execution_count": 23,
   "metadata": {},
   "outputs": [],
   "source": [
    "p_tall_f = 1 - p_tall_m"
   ]
  },
  {
   "cell_type": "code",
   "execution_count": 24,
   "metadata": {},
   "outputs": [],
   "source": [
    "h_tall = p_tall_m * log2(1/p_tall_m) + p_tall_f * log2(1/p_tall_f)"
   ]
  },
  {
   "cell_type": "code",
   "execution_count": 25,
   "metadata": {},
   "outputs": [
    {
     "name": "stdout",
     "output_type": "stream",
     "text": [
      "0.7219280948873623\n"
     ]
    }
   ],
   "source": [
    "print(h_tall)"
   ]
  },
  {
   "cell_type": "code",
   "execution_count": 26,
   "metadata": {},
   "outputs": [],
   "source": [
    "p_not_tall_m = sum((df.height != 1) & (df.gender == 1)) / sum(df.height != 1)\n",
    "p_not_tall_f = 1-p_not_tall_m\n"
   ]
  },
  {
   "cell_type": "code",
   "execution_count": 32,
   "metadata": {},
   "outputs": [],
   "source": [
    "h_not_tall = p_not_tall_m * log2(1/p_not_tall_m) + p_not_tall_f * log2(1/p_not_tall_f)"
   ]
  },
  {
   "cell_type": "code",
   "execution_count": 33,
   "metadata": {},
   "outputs": [
    {
     "name": "stdout",
     "output_type": "stream",
     "text": [
      "0.9967916319816366\n"
     ]
    }
   ],
   "source": [
    "print(h_not_tall)"
   ]
  },
  {
   "cell_type": "code",
   "execution_count": 34,
   "metadata": {},
   "outputs": [],
   "source": [
    "# Weighted average of the two\n",
    "h_ave = sum(df.height == 1) / len(df.height) * h_tall + sum(df.height != 1)/ len(df.height)* h_not_tall"
   ]
  },
  {
   "cell_type": "code",
   "execution_count": 35,
   "metadata": {},
   "outputs": [
    {
     "name": "stdout",
     "output_type": "stream",
     "text": [
      "0.9280757477080679\n"
     ]
    }
   ],
   "source": [
    "print(h_ave)"
   ]
  },
  {
   "cell_type": "code",
   "execution_count": 38,
   "metadata": {},
   "outputs": [],
   "source": [
    "# Compute for medium\n",
    "# probability medium height is male\n",
    "pmm = sum((df.height  == 2) & (df.gender == 1)) / sum(df.height == 2)\n",
    "\n",
    "# probability medium height is female\n",
    "pmf = sum((df.height == 2) & (df.gender == 0)) / sum(df.height == 2)\n",
    "\n",
    "p_not_mm = sum((df.height != 2) & (df.gender == 1)) / sum(df.height != 2) \n",
    "p_not_mf = 1 - p_not_mm\n",
    "\n",
    "h_medium = pmm * log2(1/pmm) + pmf * log2(1/pmf)\n",
    "\n",
    "h_not_medium = p_not_mm * log2(1/p_not_mm) + p_not_mf * log2(1/p_not_mf)"
   ]
  },
  {
   "cell_type": "code",
   "execution_count": 44,
   "metadata": {},
   "outputs": [],
   "source": [
    "p_med = sum(df.height == 2) / len(df.height)\n",
    "h_ave_m = p_med * h_medium + (1- p_med) * h_not_medium"
   ]
  },
  {
   "cell_type": "code",
   "execution_count": 45,
   "metadata": {},
   "outputs": [
    {
     "name": "stdout",
     "output_type": "stream",
     "text": [
      "0.9245112497836532\n"
     ]
    }
   ],
   "source": [
    "print(h_ave_m)"
   ]
  },
  {
   "cell_type": "code",
   "execution_count": null,
   "metadata": {},
   "outputs": [],
   "source": []
  },
  {
   "cell_type": "code",
   "execution_count": null,
   "metadata": {},
   "outputs": [],
   "source": []
  }
 ],
 "metadata": {
  "kernelspec": {
   "display_name": "Python 3",
   "language": "python",
   "name": "python3"
  },
  "language_info": {
   "codemirror_mode": {
    "name": "ipython",
    "version": 3
   },
   "file_extension": ".py",
   "mimetype": "text/x-python",
   "name": "python",
   "nbconvert_exporter": "python",
   "pygments_lexer": "ipython3",
   "version": "3.7.0"
  }
 },
 "nbformat": 4,
 "nbformat_minor": 2
}
